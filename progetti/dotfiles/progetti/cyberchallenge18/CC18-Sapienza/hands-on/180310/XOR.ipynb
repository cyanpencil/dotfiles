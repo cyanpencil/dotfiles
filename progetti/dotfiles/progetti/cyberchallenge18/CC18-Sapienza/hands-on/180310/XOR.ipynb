{
 "cells": [
  {
   "cell_type": "markdown",
   "metadata": {
    "deletable": true,
    "editable": true
   },
   "source": [
    "## Lo XOR"
   ]
  },
  {
   "cell_type": "markdown",
   "metadata": {
    "deletable": true,
    "editable": true
   },
   "source": [
    "1. invertibile se ci manca una cosa sola\n",
    "2. l'inverso di se stesso\n",
    "3. non lineare\n",
    "4. lo trovate scritto $\\oplus$ o `^`"
   ]
  },
  {
   "cell_type": "code",
   "execution_count": null,
   "metadata": {
    "collapsed": false,
    "deletable": true,
    "editable": true
   },
   "outputs": [],
   "source": [
    "a = 1\n",
    "b = 2\n",
    "c = a ^ b\n",
    "print(a)\n",
    "print(b)\n",
    "print(c)"
   ]
  },
  {
   "cell_type": "markdown",
   "metadata": {
    "deletable": true,
    "editable": true
   },
   "source": [
    "Ad esempio, quanto vale $a$?"
   ]
  },
  {
   "cell_type": "code",
   "execution_count": null,
   "metadata": {
    "collapsed": false
   },
   "outputs": [],
   "source": [
    "b = 5\n",
    "c = 7\n",
    "a = ?\n",
    "assert b ^ a == c"
   ]
  },
  {
   "cell_type": "markdown",
   "metadata": {},
   "source": [
    "Se ne mancano due la cosa si fa complicata, trovate due valori per $a$ e $b$ che soddisfano $a \\oplus b = 1$ "
   ]
  },
  {
   "cell_type": "code",
   "execution_count": null,
   "metadata": {
    "collapsed": true
   },
   "outputs": [],
   "source": [
    "a = ?\n",
    "b = ?\n",
    "a1 = ?\n",
    "b1 = ?\n",
    "\n",
    "assert a ^ b == 1\n",
    "assert a1 ^ b1 == 1"
   ]
  },
  {
   "cell_type": "markdown",
   "metadata": {
    "deletable": true,
    "editable": true
   },
   "source": [
    "In assembly?\n",
    "```\n",
    "xor rax, rbx -> rax = rax ^ rbx\n",
    "xor rax, 5 -> rax = rax ^ 5\n",
    "xor qword [rsp+4], 5 -> [rsp+4] = [rsp+4] ^ 5\n",
    "```"
   ]
  },
  {
   "cell_type": "markdown",
   "metadata": {
    "deletable": true,
    "editable": true
   },
   "source": [
    "## Lo Shift (logico)\n",
    "1. ci si perde quasi sempre qualcosa\n",
    "2. è veloce\n",
    "3. ha un simbolo carino `>>` e `<<`"
   ]
  },
  {
   "cell_type": "code",
   "execution_count": null,
   "metadata": {
    "collapsed": false
   },
   "outputs": [],
   "source": [
    "a = 12\n",
    "print(bin(a))\n",
    "print(bin(a << 2))"
   ]
  },
  {
   "cell_type": "code",
   "execution_count": null,
   "metadata": {
    "collapsed": true
   },
   "outputs": [],
   "source": [
    "a = 123\n",
    "b = ?\n",
    "assert a << b == 492"
   ]
  },
  {
   "cell_type": "markdown",
   "metadata": {},
   "source": [
    "Provate a trovare due valori di $a$ che shiftati di 4 diano 16"
   ]
  },
  {
   "cell_type": "code",
   "execution_count": null,
   "metadata": {
    "collapsed": true
   },
   "outputs": [],
   "source": [
    "a = ?\n",
    "a1 = ?\n",
    "assert a << 4 == a1 << 4"
   ]
  },
  {
   "cell_type": "markdown",
   "metadata": {},
   "source": [
    "In assembly?\n",
    "```\n",
    "shl rax, 5 -> rax = rax << 5\n",
    "shl rax, cl -> rax = rax << cl\n",
    "shr rax, 5 -> rax = rax >> 5\n",
    "```"
   ]
  },
  {
   "cell_type": "markdown",
   "metadata": {},
   "source": [
    "## XorShift\n",
    "xor + shift per generare numeri casuali\n",
    "```c\n",
    "uint32_t xorshift32(uint32_t state[1])\n",
    "{\n",
    "\t/* Algorithm \"xor\" from p. 4 of Marsaglia, \"Xorshift RNGs\" */\n",
    "\tuint32_t x = state[0];\n",
    "\tx ^= x << 13;\n",
    "\tx ^= x >> 17;\n",
    "\tx ^= x << 5;\n",
    "\tstate[0] = x;\n",
    "\treturn x;\n",
    "}\n",
    "```"
   ]
  },
  {
   "cell_type": "markdown",
   "metadata": {},
   "source": [
    "In python bisogna prendere gli ultimi 32 bit"
   ]
  },
  {
   "cell_type": "code",
   "execution_count": null,
   "metadata": {
    "collapsed": true
   },
   "outputs": [],
   "source": [
    "def xorshift32(x):\n",
    "    x ^= (x << 13) % 2**32;\n",
    "    x ^= x >> 17 % 2**32;\n",
    "    x ^= (x << 5) % 2**32;\n",
    "    return x % 2**32"
   ]
  },
  {
   "cell_type": "markdown",
   "metadata": {},
   "source": [
    "In assembly?\n",
    "Provate il binario"
   ]
  },
  {
   "cell_type": "code",
   "execution_count": null,
   "metadata": {
    "collapsed": true
   },
   "outputs": [],
   "source": [
    "a = ?\n",
    "assert xorshift32(123) == a"
   ]
  },
  {
   "cell_type": "markdown",
   "metadata": {},
   "source": [
    "Lo xor è invertibile, possiamo invertire uno xorshift?"
   ]
  },
  {
   "cell_type": "code",
   "execution_count": null,
   "metadata": {
    "collapsed": false
   },
   "outputs": [],
   "source": [
    "a = 124\n",
    "print('0' + bin(a)[2:])\n",
    "print(bin(a << 1)[2:])\n",
    "a = a ^ (a << 1)\n",
    "print(bin(a)[2:])"
   ]
  },
  {
   "cell_type": "markdown",
   "metadata": {},
   "source": [
    "Proviamo a invertire l'operazione base"
   ]
  },
  {
   "cell_type": "code",
   "execution_count": null,
   "metadata": {
    "collapsed": false
   },
   "outputs": [],
   "source": [
    "y = 10\n",
    "a = ?\n",
    "assert y == a ^ (a << 1)"
   ]
  },
  {
   "cell_type": "markdown",
   "metadata": {},
   "source": [
    "## Linear Congruential Generator\n",
    "$ S_{n+1} = a * S_{n} + c \\mod m$\n",
    "```c\n",
    "int lcg(int state[1]) {\n",
    "    state[0] = 1103515245 * state[0] + 12345;\n",
    "    return state[0];\n",
    "}\n",
    "```"
   ]
  },
  {
   "cell_type": "code",
   "execution_count": null,
   "metadata": {
    "collapsed": true
   },
   "outputs": [],
   "source": [
    "def lcg32(x):\n",
    "    # parametri usati da glibc\n",
    "    a = 1103515245\n",
    "    c = 12345\n",
    "    x = a * x + c\n",
    "    return x % 2**32 # in realtà 31"
   ]
  },
  {
   "cell_type": "markdown",
   "metadata": {},
   "source": [
    "Proprietà carine\n",
    "1. se $k$ divide $m$ vale $$S_{n+1} \\mod k = a * S_{n} + c \\mod k$$\n",
    "2. se $m$ è una potenza di 2 gli ultimi $q$ bit hanno un periodo di al più $2^{q+1}$"
   ]
  },
  {
   "cell_type": "markdown",
   "metadata": {},
   "source": [
    "## Cosa viene Usato?\n",
    "Marsenne Twister\n",
    "1. 624 interi di stato\n",
    "2. in output un intero di stato modificato alla volta\n",
    "3. solo una volta esauriti viene aggiornato lo stato\n",
    "\n",
    "Vedere i codici sorgenti\n",
    "1. https://github.com/python/cpython/blob/2.7/Lib/random.py\n",
    "2. https://github.com/python/cpython/blob/2.7/Modules/_randommodule.c"
   ]
  }
 ],
 "metadata": {
  "kernelspec": {
   "display_name": "Python 2",
   "language": "python",
   "name": "python2"
  },
  "language_info": {
   "codemirror_mode": {
    "name": "ipython",
    "version": 2
   },
   "file_extension": ".py",
   "mimetype": "text/x-python",
   "name": "python",
   "nbconvert_exporter": "python",
   "pygments_lexer": "ipython2",
   "version": "2.7.13"
  }
 },
 "nbformat": 4,
 "nbformat_minor": 2
}
